{
 "cells": [
  {
   "cell_type": "code",
   "execution_count": 1,
   "metadata": {},
   "outputs": [
    {
     "name": "stdout",
     "output_type": "stream",
     "text": [
      "enter a string to check it has balanced paranthesis or not\n",
      "{()[]}\n",
      "string is balanced\n"
     ]
    }
   ],
   "source": [
    "class Stack :\n",
    "    def __init__(self):\n",
    "        self.items=[]\n",
    "    def push(self,item):\n",
    "        self.items.append(item)\n",
    "    def pop(self):\n",
    "        self.items.pop()\n",
    "    def isempty(self):\n",
    "        if len(self.items)==0 :\n",
    "            return 0\n",
    "        else :\n",
    "            return 1\n",
    "\n",
    "print(\"enter a string to check it has balanced paranthesis or not\")\n",
    "str=input()\n",
    "flag=0\n",
    "flagi=0\n",
    "s=Stack()\n",
    "if str[0]==')' :\n",
    "    print(\"string is not balanced\")\n",
    "    flag=1\n",
    "    flagi=1\n",
    "else:\n",
    "    for i in range (len(str)):\n",
    "        if str[i]=='(' and flag==0 :\n",
    "            s.push(str[i])\n",
    "        elif str[i]==')' and flag==0:\n",
    "            a=s.isempty()\n",
    "            if a==0 :\n",
    "                flag=1\n",
    "            else :\n",
    "                s.pop()\n",
    "if s.isempty()==1 :\n",
    "    flag=1\n",
    "if flag==1 and flagi==0 :\n",
    "    print(\"string is not balanced\")\n",
    "elif flag==0 :\n",
    "    print(\"string is balanced\")\n"
   ]
  },
  {
   "cell_type": "code",
   "execution_count": null,
   "metadata": {},
   "outputs": [],
   "source": []
  }
 ],
 "metadata": {
  "kernelspec": {
   "display_name": "Python 3",
   "language": "python",
   "name": "python3"
  },
  "language_info": {
   "codemirror_mode": {
    "name": "ipython",
    "version": 3
   },
   "file_extension": ".py",
   "mimetype": "text/x-python",
   "name": "python",
   "nbconvert_exporter": "python",
   "pygments_lexer": "ipython3",
   "version": "3.6.7"
  }
 },
 "nbformat": 4,
 "nbformat_minor": 2
}
