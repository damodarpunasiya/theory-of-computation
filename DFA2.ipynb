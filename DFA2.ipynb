{
 "cells": [
  {
   "cell_type": "code",
   "execution_count": 1,
   "metadata": {},
   "outputs": [
    {
     "data": {
      "text/plain": [
       "True"
      ]
     },
     "execution_count": 1,
     "metadata": {},
     "output_type": "execute_result"
    }
   ],
   "source": [
    "dfa={0:{'a':1, 'b':0},\n",
    "     1:{'a':0, 'b':1},\n",
    "     2:{'a':3, 'b':1},\n",
    "     3:{'a':2, 'b':0}}\n",
    "\n",
    "class demo():\n",
    "   \n",
    "    def __init__(self,data):\n",
    "        self.dfa=dfa\n",
    "    def moves(self,string):\n",
    "        cs=0\n",
    "        fs={0}\n",
    "        for i in string:\n",
    "            cs=slf.dfa[cs][i]\n",
    "        if cs in fs:\n",
    "            return True\n",
    "        else:\n",
    "            return False\n",
    "myobj=demo(dfa)\n",
    "myobj.moves('')"
   ]
  },
  {
   "cell_type": "code",
   "execution_count": null,
   "metadata": {},
   "outputs": [],
   "source": []
  }
 ],
 "metadata": {
  "kernelspec": {
   "display_name": "Python 3",
   "language": "python",
   "name": "python3"
  },
  "language_info": {
   "codemirror_mode": {
    "name": "ipython",
    "version": 3
   },
   "file_extension": ".py",
   "mimetype": "text/x-python",
   "name": "python",
   "nbconvert_exporter": "python",
   "pygments_lexer": "ipython3",
   "version": "3.7.3"
  }
 },
 "nbformat": 4,
 "nbformat_minor": 4
}
