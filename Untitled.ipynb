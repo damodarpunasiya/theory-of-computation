{
 "cells": [
  {
   "cell_type": "code",
   "execution_count": null,
   "metadata": {},
   "outputs": [],
   "source": [
    "# program for total no. of a which is divisible by 3\n",
    "\n",
    "import re\n",
    "def hz1():\n",
    "    str=input()\n",
    "    print(str)\n",
    "    x=len(re.findall(\"a\",str))\n",
    "    if x%3==0:\n",
    "        print(\"valid string\")\n",
    "    else:\n",
    "        print(\"invalid\")"
   ]
  },
  {
   "cell_type": "code",
   "execution_count": 2,
   "metadata": {},
   "outputs": [],
   "source": [
    "# programm for string not contain 'bba'\n",
    "\n",
    "import re\n",
    "def hz2():\n",
    "    str=input()\n",
    "    print(str)\n",
    "    x=re.findall(\"bba\",str)\n",
    "    if x:\n",
    "        print(\"invalid\")\n",
    "    else:\n",
    "        print(\"valid string\")\n",
    "        "
   ]
  },
  {
   "cell_type": "code",
   "execution_count": 4,
   "metadata": {},
   "outputs": [
    {
     "name": "stdout",
     "output_type": "stream",
     "text": [
      "ababb\n",
      "ababb\n",
      "valid string\n"
     ]
    }
   ],
   "source": [
    "hz2()"
   ]
  },
  {
   "cell_type": "code",
   "execution_count": null,
   "metadata": {},
   "outputs": [],
   "source": []
  }
 ],
 "metadata": {
  "kernelspec": {
   "display_name": "Python 3",
   "language": "python",
   "name": "python3"
  },
  "language_info": {
   "codemirror_mode": {
    "name": "ipython",
    "version": 3
   },
   "file_extension": ".py",
   "mimetype": "text/x-python",
   "name": "python",
   "nbconvert_exporter": "python",
   "pygments_lexer": "ipython3",
   "version": "3.6.7"
  }
 },
 "nbformat": 4,
 "nbformat_minor": 2
}
