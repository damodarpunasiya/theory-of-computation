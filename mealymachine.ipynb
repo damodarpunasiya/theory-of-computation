{
 "cells": [
  {
   "cell_type": "code",
   "execution_count": 3,
   "metadata": {},
   "outputs": [
    {
     "name": "stdout",
     "output_type": "stream",
     "text": [
      "010110101\n",
      "10011\n"
     ]
    }
   ],
   "source": [
    "#MEALY MACHINE FOR COMPLEMENT OF A BINARY STRING\n",
    "\n",
    "mealy = {\n",
    "    \"a\":{1:{'a':0},0:{'a':1}},\n",
    "}\n",
    "\n",
    "def func(s):\n",
    "    ins = 'a'\n",
    "    fis = {'a'}\n",
    "    for i in s:\n",
    "        print(mealy[ins][int(i)][ins],end=\"\")\n",
    "    print()\n",
    "\n",
    "func('101001010')\n",
    "\n",
    "func('01100')\n"
   ]
  },
  {
   "cell_type": "code",
   "execution_count": null,
   "metadata": {},
   "outputs": [],
   "source": []
  },
  {
   "cell_type": "code",
   "execution_count": 5,
   "metadata": {},
   "outputs": [
    {
     "name": "stdout",
     "output_type": "stream",
     "text": [
      "even\n",
      "odd\n"
     ]
    }
   ],
   "source": [
    "#MEALY MACHINE FOR EVEN OR ODD STRING LENGTH\n",
    "mealy = {\n",
    "    '0':{'0':['0','even'],'1':['1','odd']},\n",
    "    '1':{'0':['1','odd'],'1':['0','even']}\n",
    "}\n",
    "\n",
    "def func(s):\n",
    "    ins = '0'\n",
    "    current = None\n",
    "    \n",
    "    for i in s:\n",
    "        ins = mealy[ins][i][0]\n",
    "    print(mealy[ins][i][1])\n",
    "        \n",
    "func('010101')\n",
    "func('010')"
   ]
  },
  {
   "cell_type": "code",
   "execution_count": null,
   "metadata": {},
   "outputs": [],
   "source": []
  }
 ],
 "metadata": {
  "kernelspec": {
   "display_name": "Python 3",
   "language": "python",
   "name": "python3"
  },
  "language_info": {
   "codemirror_mode": {
    "name": "ipython",
    "version": 3
   },
   "file_extension": ".py",
   "mimetype": "text/x-python",
   "name": "python",
   "nbconvert_exporter": "python",
   "pygments_lexer": "ipython3",
   "version": "3.6.7"
  }
 },
 "nbformat": 4,
 "nbformat_minor": 2
}
