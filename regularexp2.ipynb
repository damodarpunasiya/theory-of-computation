{
 "cells": [
  {
   "cell_type": "code",
   "execution_count": null,
   "metadata": {},
   "outputs": [],
   "source": [
    "# program for total no. of a which is divisible by 3\n",
    "\n",
    "import re\n",
    "def hz1():\n",
    "    str=input()\n",
    "    print(str)\n",
    "    x=len(re.findall(\"a\",str))\n",
    "    if x%3==0:\n",
    "        print(\"valid string\")\n",
    "    else:\n",
    "        print(\"invalid\")"
   ]
  }
 ],
 "metadata": {
  "kernelspec": {
   "display_name": "Python 3",
   "language": "python",
   "name": "python3"
  },
  "language_info": {
   "codemirror_mode": {
    "name": "ipython",
    "version": 3
   },
   "file_extension": ".py",
   "mimetype": "text/x-python",
   "name": "python",
   "nbconvert_exporter": "python",
   "pygments_lexer": "ipython3",
   "version": "3.6.7"
  }
 },
 "nbformat": 4,
 "nbformat_minor": 2
}
